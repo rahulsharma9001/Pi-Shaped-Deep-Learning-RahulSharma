{
 "cells": [
  {
   "cell_type": "markdown",
   "id": "d1684c86-2117-46ce-9628-9d7d71b35450",
   "metadata": {},
   "source": [
    "### Step 1: Import Libraries and Load Dataset\n",
    "\n",
    "This block imports the necessary libraries for data handling, machine learning, and neural network building.\n",
    "\n",
    "- `scikit-learn` provides the breast cancer dataset.\n",
    "- `tensorflow.keras` is used to build and train the neural network.\n",
    "- `matplotlib` is for plotting results.\n",
    "\n",
    "Loading the dataset using `load_breast_cancer()` gives easy access to a well-known binary classification problem about breast cancer detection."
   ]
  },
  {
   "cell_type": "code",
   "execution_count": 5,
   "id": "738e7d70-e293-4283-bfa8-d8ca01da4b66",
   "metadata": {},
   "outputs": [],
   "source": [
    "# Import required libraries\n",
    "import numpy as np\n",
    "import pandas as pd\n",
    "from sklearn.datasets import load_breast_cancer\n",
    "from sklearn.model_selection import train_test_split\n",
    "from sklearn.preprocessing import StandardScaler\n",
    "from sklearn.metrics import accuracy_score, precision_score, recall_score, f1_score, confusion_matrix, ConfusionMatrixDisplay\n",
    "\n",
    "import tensorflow as tf\n",
    "from tensorflow.keras.models import Sequential\n",
    "from tensorflow.keras.layers import Dense"
   ]
  },
  {
   "cell_type": "markdown",
   "id": "c0192cad-cbd1-4408-b66e-0c790a4181fc",
   "metadata": {},
   "source": [
    "### Step 2: Data Preprocessing (Scaling and Splitting)\n",
    "\n",
    "- We apply **feature scaling** using `StandardScaler` so that all features have zero mean and unit variance. This ensures faster and more stable training of the neural network.\n",
    "- We split the dataset into training and testing sets with an 80-20 split using `train_test_split`. This allows us to train the model on one part of the data and evaluate its performance on unseen data."
   ]
  },
  {
   "cell_type": "code",
   "execution_count": 6,
   "id": "3a6f6ce2-eb31-4117-a6a0-b731b8325bc4",
   "metadata": {},
   "outputs": [],
   "source": [
    "# Load the breast cancer dataset\n",
    "data = load_breast_cancer()\n",
    "X = data.data\n",
    "y = data.target\n",
    "\n",
    "# Feature scaling\n",
    "scaler = StandardScaler()\n",
    "X_scaled = scaler.fit_transform(X)\n",
    "\n",
    "# Split data into train and test sets (e.g., 80% train, 20% test)\n",
    "X_train, X_test, y_train, y_test = train_test_split(X_scaled, y, test_size=0.2, random_state=42)\n"
   ]
  },
  {
   "cell_type": "markdown",
   "id": "c5e600a2-76c7-443c-ba5c-2e3337f8ef4f",
   "metadata": {},
   "source": [
    "### Step 3: Build Feedforward Neural Network\n",
    "\n",
    "- The model is built using `Sequential`, a simple stack of layers.\n",
    "- Two hidden layers with ReLU activation add non-linearity to the model, enabling it to learn complex patterns.\n",
    "- The output layer uses a **Sigmoid** activation function, appropriate for a **binary classification** task by outputting probabilities between 0 and 1."
   ]
  },
  {
   "cell_type": "code",
   "execution_count": 7,
   "id": "7da4f803-9a7b-448c-bb13-93bcc4203c47",
   "metadata": {},
   "outputs": [],
   "source": [
    "from tensorflow.keras.layers import Input\n",
    "\n",
    "model = Sequential()\n",
    "model.add(Input(shape=(X_train.shape[1],)))  # Input layer with shape\n",
    "model.add(Dense(32, activation='relu'))\n",
    "model.add(Dense(16, activation='relu'))\n",
    "model.add(Dense(1, activation='sigmoid'))"
   ]
  },
  {
   "cell_type": "markdown",
   "id": "d8f7304d-20f6-4013-a1a7-8ae927e80b4f",
   "metadata": {},
   "source": [
    "### Step 4: Compile and Train the Model\n",
    "\n",
    "- The model is compiled with the `adam` optimizer, which adapts the learning rate to improve training speed and stability.\n",
    "- We use the **binary cross-entropy** loss function, suitable for measuring error in binary classification.\n",
    "- The model is trained for 30 epochs with a small batch size, and we keep aside 10% of training data for validation to monitor overfitting during training."
   ]
  },
  {
   "cell_type": "code",
   "execution_count": 8,
   "id": "0ff6bfc2-e3e0-4663-8933-2abbc2ec4c9c",
   "metadata": {},
   "outputs": [
    {
     "name": "stdout",
     "output_type": "stream",
     "text": [
      "Epoch 1/30\n",
      "\u001b[1m26/26\u001b[0m \u001b[32m━━━━━━━━━━━━━━━━━━━━\u001b[0m\u001b[37m\u001b[0m \u001b[1m1s\u001b[0m 18ms/step - accuracy: 0.7066 - loss: 0.5539 - val_accuracy: 0.8261 - val_loss: 0.3968\n",
      "Epoch 2/30\n",
      "\u001b[1m26/26\u001b[0m \u001b[32m━━━━━━━━━━━━━━━━━━━━\u001b[0m\u001b[37m\u001b[0m \u001b[1m0s\u001b[0m 8ms/step - accuracy: 0.8851 - loss: 0.3610 - val_accuracy: 0.8261 - val_loss: 0.2915\n",
      "Epoch 3/30\n",
      "\u001b[1m26/26\u001b[0m \u001b[32m━━━━━━━━━━━━━━━━━━━━\u001b[0m\u001b[37m\u001b[0m \u001b[1m0s\u001b[0m 7ms/step - accuracy: 0.9120 - loss: 0.2667 - val_accuracy: 0.8913 - val_loss: 0.2196\n",
      "Epoch 4/30\n",
      "\u001b[1m26/26\u001b[0m \u001b[32m━━━━━━━━━━━━━━━━━━━━\u001b[0m\u001b[37m\u001b[0m \u001b[1m0s\u001b[0m 9ms/step - accuracy: 0.9315 - loss: 0.2049 - val_accuracy: 0.9348 - val_loss: 0.1682\n",
      "Epoch 5/30\n",
      "\u001b[1m26/26\u001b[0m \u001b[32m━━━━━━━━━━━━━━━━━━━━\u001b[0m\u001b[37m\u001b[0m \u001b[1m0s\u001b[0m 8ms/step - accuracy: 0.9487 - loss: 0.1615 - val_accuracy: 0.9348 - val_loss: 0.1411\n",
      "Epoch 6/30\n",
      "\u001b[1m26/26\u001b[0m \u001b[32m━━━━━━━━━━━━━━━━━━━━\u001b[0m\u001b[37m\u001b[0m \u001b[1m0s\u001b[0m 6ms/step - accuracy: 0.9584 - loss: 0.1328 - val_accuracy: 0.9565 - val_loss: 0.1230\n",
      "Epoch 7/30\n",
      "\u001b[1m26/26\u001b[0m \u001b[32m━━━━━━━━━━━━━━━━━━━━\u001b[0m\u001b[37m\u001b[0m \u001b[1m0s\u001b[0m 7ms/step - accuracy: 0.9658 - loss: 0.1132 - val_accuracy: 0.9565 - val_loss: 0.1104\n",
      "Epoch 8/30\n",
      "\u001b[1m26/26\u001b[0m \u001b[32m━━━━━━━━━━━━━━━━━━━━\u001b[0m\u001b[37m\u001b[0m \u001b[1m0s\u001b[0m 8ms/step - accuracy: 0.9707 - loss: 0.0984 - val_accuracy: 0.9565 - val_loss: 0.1024\n",
      "Epoch 9/30\n",
      "\u001b[1m26/26\u001b[0m \u001b[32m━━━━━━━━━━━━━━━━━━━━\u001b[0m\u001b[37m\u001b[0m \u001b[1m0s\u001b[0m 6ms/step - accuracy: 0.9731 - loss: 0.0881 - val_accuracy: 0.9565 - val_loss: 0.0962\n",
      "Epoch 10/30\n",
      "\u001b[1m26/26\u001b[0m \u001b[32m━━━━━━━━━━━━━━━━━━━━\u001b[0m\u001b[37m\u001b[0m \u001b[1m0s\u001b[0m 8ms/step - accuracy: 0.9756 - loss: 0.0804 - val_accuracy: 0.9565 - val_loss: 0.0918\n",
      "Epoch 11/30\n",
      "\u001b[1m26/26\u001b[0m \u001b[32m━━━━━━━━━━━━━━━━━━━━\u001b[0m\u001b[37m\u001b[0m \u001b[1m0s\u001b[0m 9ms/step - accuracy: 0.9804 - loss: 0.0733 - val_accuracy: 0.9565 - val_loss: 0.0896\n",
      "Epoch 12/30\n",
      "\u001b[1m26/26\u001b[0m \u001b[32m━━━━━━━━━━━━━━━━━━━━\u001b[0m\u001b[37m\u001b[0m \u001b[1m0s\u001b[0m 7ms/step - accuracy: 0.9804 - loss: 0.0675 - val_accuracy: 0.9565 - val_loss: 0.0877\n",
      "Epoch 13/30\n",
      "\u001b[1m26/26\u001b[0m \u001b[32m━━━━━━━━━━━━━━━━━━━━\u001b[0m\u001b[37m\u001b[0m \u001b[1m0s\u001b[0m 9ms/step - accuracy: 0.9829 - loss: 0.0628 - val_accuracy: 0.9565 - val_loss: 0.0853\n",
      "Epoch 14/30\n",
      "\u001b[1m26/26\u001b[0m \u001b[32m━━━━━━━━━━━━━━━━━━━━\u001b[0m\u001b[37m\u001b[0m \u001b[1m0s\u001b[0m 10ms/step - accuracy: 0.9829 - loss: 0.0590 - val_accuracy: 0.9565 - val_loss: 0.0841\n",
      "Epoch 15/30\n",
      "\u001b[1m26/26\u001b[0m \u001b[32m━━━━━━━━━━━━━━━━━━━━\u001b[0m\u001b[37m\u001b[0m \u001b[1m0s\u001b[0m 7ms/step - accuracy: 0.9829 - loss: 0.0550 - val_accuracy: 0.9565 - val_loss: 0.0825\n",
      "Epoch 16/30\n",
      "\u001b[1m26/26\u001b[0m \u001b[32m━━━━━━━━━━━━━━━━━━━━\u001b[0m\u001b[37m\u001b[0m \u001b[1m0s\u001b[0m 7ms/step - accuracy: 0.9853 - loss: 0.0518 - val_accuracy: 0.9565 - val_loss: 0.0811\n",
      "Epoch 17/30\n",
      "\u001b[1m26/26\u001b[0m \u001b[32m━━━━━━━━━━━━━━━━━━━━\u001b[0m\u001b[37m\u001b[0m \u001b[1m0s\u001b[0m 8ms/step - accuracy: 0.9878 - loss: 0.0485 - val_accuracy: 0.9565 - val_loss: 0.0801\n",
      "Epoch 18/30\n",
      "\u001b[1m26/26\u001b[0m \u001b[32m━━━━━━━━━━━━━━━━━━━━\u001b[0m\u001b[37m\u001b[0m \u001b[1m0s\u001b[0m 7ms/step - accuracy: 0.9878 - loss: 0.0456 - val_accuracy: 0.9565 - val_loss: 0.0793\n",
      "Epoch 19/30\n",
      "\u001b[1m26/26\u001b[0m \u001b[32m━━━━━━━━━━━━━━━━━━━━\u001b[0m\u001b[37m\u001b[0m \u001b[1m0s\u001b[0m 7ms/step - accuracy: 0.9878 - loss: 0.0431 - val_accuracy: 0.9565 - val_loss: 0.0783\n",
      "Epoch 20/30\n",
      "\u001b[1m26/26\u001b[0m \u001b[32m━━━━━━━━━━━━━━━━━━━━\u001b[0m\u001b[37m\u001b[0m \u001b[1m0s\u001b[0m 7ms/step - accuracy: 0.9902 - loss: 0.0412 - val_accuracy: 0.9565 - val_loss: 0.0787\n",
      "Epoch 21/30\n",
      "\u001b[1m26/26\u001b[0m \u001b[32m━━━━━━━━━━━━━━━━━━━━\u001b[0m\u001b[37m\u001b[0m \u001b[1m0s\u001b[0m 9ms/step - accuracy: 0.9902 - loss: 0.0386 - val_accuracy: 0.9565 - val_loss: 0.0760\n",
      "Epoch 22/30\n",
      "\u001b[1m26/26\u001b[0m \u001b[32m━━━━━━━━━━━━━━━━━━━━\u001b[0m\u001b[37m\u001b[0m \u001b[1m0s\u001b[0m 8ms/step - accuracy: 0.9927 - loss: 0.0363 - val_accuracy: 0.9565 - val_loss: 0.0762\n",
      "Epoch 23/30\n",
      "\u001b[1m26/26\u001b[0m \u001b[32m━━━━━━━━━━━━━━━━━━━━\u001b[0m\u001b[37m\u001b[0m \u001b[1m0s\u001b[0m 7ms/step - accuracy: 0.9927 - loss: 0.0345 - val_accuracy: 0.9565 - val_loss: 0.0760\n",
      "Epoch 24/30\n",
      "\u001b[1m26/26\u001b[0m \u001b[32m━━━━━━━━━━━━━━━━━━━━\u001b[0m\u001b[37m\u001b[0m \u001b[1m0s\u001b[0m 7ms/step - accuracy: 0.9927 - loss: 0.0328 - val_accuracy: 0.9565 - val_loss: 0.0751\n",
      "Epoch 25/30\n",
      "\u001b[1m26/26\u001b[0m \u001b[32m━━━━━━━━━━━━━━━━━━━━\u001b[0m\u001b[37m\u001b[0m \u001b[1m0s\u001b[0m 7ms/step - accuracy: 0.9927 - loss: 0.0306 - val_accuracy: 0.9783 - val_loss: 0.0745\n",
      "Epoch 26/30\n",
      "\u001b[1m26/26\u001b[0m \u001b[32m━━━━━━━━━━━━━━━━━━━━\u001b[0m\u001b[37m\u001b[0m \u001b[1m0s\u001b[0m 10ms/step - accuracy: 0.9927 - loss: 0.0292 - val_accuracy: 0.9783 - val_loss: 0.0732\n",
      "Epoch 27/30\n",
      "\u001b[1m26/26\u001b[0m \u001b[32m━━━━━━━━━━━━━━━━━━━━\u001b[0m\u001b[37m\u001b[0m \u001b[1m0s\u001b[0m 8ms/step - accuracy: 0.9927 - loss: 0.0276 - val_accuracy: 0.9783 - val_loss: 0.0735\n",
      "Epoch 28/30\n",
      "\u001b[1m26/26\u001b[0m \u001b[32m━━━━━━━━━━━━━━━━━━━━\u001b[0m\u001b[37m\u001b[0m \u001b[1m0s\u001b[0m 7ms/step - accuracy: 0.9927 - loss: 0.0258 - val_accuracy: 0.9783 - val_loss: 0.0721\n",
      "Epoch 29/30\n",
      "\u001b[1m26/26\u001b[0m \u001b[32m━━━━━━━━━━━━━━━━━━━━\u001b[0m\u001b[37m\u001b[0m \u001b[1m0s\u001b[0m 7ms/step - accuracy: 0.9927 - loss: 0.0249 - val_accuracy: 0.9783 - val_loss: 0.0719\n",
      "Epoch 30/30\n",
      "\u001b[1m26/26\u001b[0m \u001b[32m━━━━━━━━━━━━━━━━━━━━\u001b[0m\u001b[37m\u001b[0m \u001b[1m0s\u001b[0m 8ms/step - accuracy: 0.9927 - loss: 0.0228 - val_accuracy: 0.9783 - val_loss: 0.0737\n"
     ]
    }
   ],
   "source": [
    "# Compile the model\n",
    "model.compile(optimizer='adam',\n",
    "              loss='binary_crossentropy',\n",
    "              metrics=['accuracy'])\n",
    "\n",
    "# Train the model\n",
    "history = model.fit(X_train, y_train, epochs=30, batch_size=16, validation_split=0.1, verbose=1)\n"
   ]
  },
  {
   "cell_type": "markdown",
   "id": "07a0d667-3e8c-4ffb-b483-6945646f3929",
   "metadata": {},
   "source": [
    "### Step 5: Model Evaluation\n",
    "\n",
    "- After training, predictions are generated on the test data.\n",
    "- We calculate **accuracy**, **precision**, **recall**, and **F1-score** to get a comprehensive understanding of the model’s performance:\n",
    "  - Accuracy: Overall correctness\n",
    "  - Precision: How many positive predictions were correct\n",
    "  - Recall: How many actual positives were detected\n",
    "  - F1-Score: Harmonic mean of precision and recall\n",
    "- These metrics help evaluate beyond simple accuracy, especially important in imbalanced datasets."
   ]
  },
  {
   "cell_type": "code",
   "execution_count": 9,
   "id": "ece5d1f8-938b-46e1-b1d0-bc37ca2c256e",
   "metadata": {},
   "outputs": [
    {
     "name": "stdout",
     "output_type": "stream",
     "text": [
      "\u001b[1m4/4\u001b[0m \u001b[32m━━━━━━━━━━━━━━━━━━━━\u001b[0m\u001b[37m\u001b[0m \u001b[1m0s\u001b[0m 29ms/step\n",
      "Accuracy: 0.9824561403508771\n",
      "Precision: 0.9859154929577465\n",
      "Recall: 0.9859154929577465\n",
      "F1-score: 0.9859154929577465\n",
      "Confusion Matrix:\n",
      " [[42  1]\n",
      " [ 1 70]]\n"
     ]
    }
   ],
   "source": [
    "# Get predictions (0/1 class) on the test set\n",
    "y_pred_prob = model.predict(X_test).flatten()\n",
    "y_pred = (y_pred_prob > 0.5).astype(int)\n",
    "\n",
    "# Calculate metrics\n",
    "acc = accuracy_score(y_test, y_pred)\n",
    "prec = precision_score(y_test, y_pred)\n",
    "rec = recall_score(y_test, y_pred)\n",
    "f1 = f1_score(y_test, y_pred)\n",
    "cm = confusion_matrix(y_test, y_pred)\n",
    "\n",
    "print(\"Accuracy:\", acc)\n",
    "print(\"Precision:\", prec)\n",
    "print(\"Recall:\", rec)\n",
    "print(\"F1-score:\", f1)\n",
    "print(\"Confusion Matrix:\\n\", cm)\n"
   ]
  },
  {
   "cell_type": "markdown",
   "id": "a1cda9ca-7f62-4144-9da7-22788a88b114",
   "metadata": {},
   "source": [
    "### Step 6: Confusion Matrix Plotting\n",
    "\n",
    "- The confusion matrix summarizes true positive, false positive, true negative, and false negative counts.\n",
    "- Visualizing it with `ConfusionMatrixDisplay` helps diagnose exactly where the model makes errors.\n"
   ]
  },
  {
   "cell_type": "code",
   "execution_count": 10,
   "id": "1a0b1a10-69fa-4a51-8307-3c362b64257e",
   "metadata": {},
   "outputs": [
    {
     "data": {
      "image/png": "[encoded data removed]",
      "text/plain": [
       "<Figure size 640x480 with 2 Axes>"
      ]
     },
     "metadata": {},
     "output_type": "display_data"
    }
   ],
   "source": [
    "import matplotlib.pyplot as plt\n",
    "\n",
    "ConfusionMatrixDisplay(confusion_matrix=cm, display_labels=data.target_names).plot()\n",
    "plt.title(\"Confusion Matrix\")\n",
    "plt.show()\n"
   ]
  },
  {
   "cell_type": "code",
   "execution_count": null,
   "id": "20b65cdf-410b-4d60-8409-9c4e593a1e20",
   "metadata": {},
   "outputs": [],
   "source": []
  }
 ],
 "metadata": {
  "kernelspec": {
   "display_name": "Python 3 (ipykernel)",
   "language": "python",
   "name": "python3"
  },
  "language_info": {
   "codemirror_mode": {
    "name": "ipython",
    "version": 3
   },
   "file_extension": ".py",
   "mimetype": "text/x-python",
   "name": "python",
   "nbconvert_exporter": "python",
   "pygments_lexer": "ipython3",
   "version": "3.10.12"
  }
 },
 "nbformat": 4,
 "nbformat_minor": 5
}
